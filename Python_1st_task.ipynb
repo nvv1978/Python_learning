{
 "cells": [
  {
   "cell_type": "code",
   "execution_count": 5,
   "metadata": {},
   "outputs": [
    {
     "name": "stdout",
     "output_type": "stream",
     "text": [
      "Hello, world\n"
     ]
    }
   ],
   "source": [
    "print('Hello, world')"
   ]
  },
  {
   "cell_type": "code",
   "execution_count": 4,
   "metadata": {},
   "outputs": [
    {
     "name": "stdout",
     "output_type": "stream",
     "text": [
      "Здравствуй, дивный новый мир!\n"
     ]
    }
   ],
   "source": [
    "print('Здравствуй, дивный новый мир!')"
   ]
  },
  {
   "cell_type": "markdown",
   "metadata": {},
   "source": [
    "# Heade 1 level"
   ]
  },
  {
   "cell_type": "markdown",
   "metadata": {},
   "source": [
    "## Header 2 level"
   ]
  },
  {
   "cell_type": "markdown",
   "metadata": {},
   "source": [
    "This is a comment"
   ]
  },
  {
   "cell_type": "markdown",
   "metadata": {},
   "source": [
    "This is a second comment"
   ]
  },
  {
   "cell_type": "markdown",
   "metadata": {},
   "source": [
    "$$f = S*{(1 + \\frac{p}{100*f})}^{L*f} -S$$"
   ]
  },
  {
   "cell_type": "code",
   "execution_count": 26,
   "metadata": {
    "scrolled": true
   },
   "outputs": [
    {
     "name": "stdout",
     "output_type": "stream",
     "text": [
      "97969.14\n"
     ]
    }
   ],
   "source": [
    "res = round(200000.00*pow( 1.00+8.00/(100.00*12) ,5*12)-200000.00,2)\n",
    "print(str(res))"
   ]
  },
  {
   "cell_type": "code",
   "execution_count": 28,
   "metadata": {},
   "outputs": [
    {
     "name": "stdout",
     "output_type": "stream",
     "text": [
      "97969.14\n",
      "93865.62\n"
     ]
    }
   ],
   "source": [
    "# процентная ставка\n",
    "p = 8.0\n",
    "\n",
    "# сколько раз в год происходит капитализация\n",
    "f = 12\n",
    "\n",
    "# сумма вклада\n",
    "S = 200000.0\n",
    "\n",
    "# количество лет\n",
    "L = 5\n",
    "\n",
    "def CalcProfit(p,f,S,L):\n",
    "    res = round(S*pow(1.00+p/(100.00*f),L*f)-S,2)\n",
    "    print(str(res))\n",
    "CalcProfit(p,f,S,L)   \n",
    "f=1\n",
    "CalcProfit(p,f,S,L)    \n"
   ]
  },
  {
   "cell_type": "code",
   "execution_count": null,
   "metadata": {
    "collapsed": true
   },
   "outputs": [],
   "source": []
  }
 ],
 "metadata": {
  "kernelspec": {
   "display_name": "Python 3",
   "language": "python",
   "name": "python3"
  }
 },
 "nbformat": 4,
 "nbformat_minor": 2
}
