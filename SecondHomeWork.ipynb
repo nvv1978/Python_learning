{
 "cells": [
  {
   "cell_type": "code",
   "execution_count": 74,
   "metadata": {},
   "outputs": [
    {
     "name": "stdout",
     "output_type": "stream",
     "text": [
      "<class 'datetime.datetime'>\n",
      "<class 'int'>\n",
      "Ключом тут тип tuple\n",
      "(1, 2, 3, 4, 5, 6, 7, 8, 9)\n",
      "<class 'tuple'>\n",
      "<class 'dict'>\n"
     ]
    },
    {
     "ename": "KeyError",
     "evalue": "(1, 2, 3, 4, 5, 6, 7, 8, 9)",
     "output_type": "error",
     "traceback": [
      "\u001b[1;31m---------------------------------------------------------------------------\u001b[0m",
      "\u001b[1;31mKeyError\u001b[0m                                  Traceback (most recent call last)",
      "\u001b[1;32m<ipython-input-74-64dbaf95ea99>\u001b[0m in \u001b[0;36m<module>\u001b[1;34m()\u001b[0m\n\u001b[0;32m     50\u001b[0m \u001b[1;33m\u001b[0m\u001b[0m\n\u001b[0;32m     51\u001b[0m \u001b[0mprint\u001b[0m\u001b[1;33m(\u001b[0m\u001b[0mtype\u001b[0m\u001b[1;33m(\u001b[0m\u001b[0mtestDict\u001b[0m\u001b[1;33m)\u001b[0m\u001b[1;33m)\u001b[0m\u001b[1;33m\u001b[0m\u001b[0m\n\u001b[1;32m---> 52\u001b[1;33m \u001b[0mprint\u001b[0m\u001b[1;33m(\u001b[0m\u001b[0mtestDict\u001b[0m\u001b[1;33m[\u001b[0m\u001b[0mtest_tuple\u001b[0m\u001b[1;33m]\u001b[0m\u001b[1;33m)\u001b[0m\u001b[1;33m\u001b[0m\u001b[0m\n\u001b[0m\u001b[0;32m     53\u001b[0m \u001b[1;33m\u001b[0m\u001b[0m\n\u001b[0;32m     54\u001b[0m \u001b[1;33m\u001b[0m\u001b[0m\n",
      "\u001b[1;31mKeyError\u001b[0m: (1, 2, 3, 4, 5, 6, 7, 8, 9)"
     ]
    }
   ],
   "source": [
    "from datetime import datetime\n",
    "\n",
    "reviews = [\"\"\"Телефон абонента: +7 916 000 00 01\n",
    "Время: 10:34\n",
    "Дата: 20.05.2017\n",
    "Оценка: 1\n",
    "Длительность разговора (мин.): 0:32\n",
    "Комментарий: Общение с сотрудником вашей техподдержки мне не понравилось. Раньше всегда отвечала девушка с приятным голосом, а сегодня какой-то мужчина. Совсем никуда не годится, примите меры!!!\"\"\",\n",
    "\"\"\"Телефон абонента: +7 916 000 00 02\n",
    "Время: 9:20\n",
    "Дата: 21.05.2017\n",
    "Оценка: 5\n",
    "Длительность разговора (мин.): 25:07\n",
    "Комментарий: С моей проблемой мне помогли, большое спасибо!\"\"\"]\n",
    "Dict = dict()\n",
    "for record in reviews:\n",
    "    fields = record.split(\"\\n\")\n",
    "    PhoneNumber = fields[0].split(\": \")[1].strip()\n",
    "    Dict[PhoneNumber] = dict()\n",
    "    for i in range(1,len(fields)):\n",
    "        FieldName = fields[i].split(\": \")[0].strip() \n",
    "        FieldValue = fields[i].split(\": \")[1].strip()\n",
    "        Dict[PhoneNumber][FieldName] = FieldValue\n",
    "#Создадим поле для хранение даты и времени звонка в типе datetime  \n",
    "#при необходимости тоже самое можно сделать для длительности звонка   \n",
    "for item in Dict:\n",
    "    Dict[item][\"DateTime\"] = datetime.strptime(Dict[item][\"Дата\"]+\" \"+Dict[item][\"Время\"], '%d.%m.%Y %H:%M')\n",
    "    #Оценку лучше хранить в целочисленном типе \n",
    "    Dict[item][\"Оценка\"] = int(Dict[item][\"Оценка\"])\n",
    "#демонстриуем типы данных в словаре\n",
    "print(type(Dict[item][\"DateTime\"]))    \n",
    "print(type(Dict[item][\"Оценка\"]))      \n",
    "\n",
    "#tuple - не изменяемый список, который может быть преобразован в list. Также list может быть преобразован в tuple\n",
    "#tuple может быть ключом. list ключом быть не может.\n",
    "#Создадим тестовый словарь\n",
    "testDict = dict()\n",
    "\n",
    "#Создадим объект tuple\n",
    "test_tuple = (1,2,3,4,5,6,7,8)\n",
    "# используем tuple как ключ словаря\n",
    "testDict[test_tuple] = \"Ключом тут тип tuple\"\n",
    "print(testDict[test_tuple])\n",
    "#Преобразуем tuple в list и обратно\n",
    "test_tuple = list(test_tuple)\n",
    "test_tuple.append(9)\n",
    "test_tuple = tuple(test_tuple)\n",
    "print(test_tuple)\n",
    "print(type(test_tuple))\n",
    "\n",
    "print(type(testDict))\n",
    "#Так как tuple мы изменили теперь получим ошибку\n",
    "print(testDict[test_tuple])\n",
    "\n",
    "\n",
    "\n"
   ]
  },
  {
   "cell_type": "code",
   "execution_count": null,
   "metadata": {
    "collapsed": true
   },
   "outputs": [],
   "source": []
  },
  {
   "cell_type": "code",
   "execution_count": null,
   "metadata": {
    "collapsed": true
   },
   "outputs": [],
   "source": []
  },
  {
   "cell_type": "code",
   "execution_count": null,
   "metadata": {
    "collapsed": true
   },
   "outputs": [],
   "source": []
  }
 ],
 "metadata": {
  "kernelspec": {
   "display_name": "Python 3",
   "language": "python",
   "name": "python3"
  },
  "language_info": {
   "codemirror_mode": {
    "name": "ipython",
    "version": 3
   },
   "file_extension": ".py",
   "mimetype": "text/x-python",
   "name": "python",
   "nbconvert_exporter": "python",
   "pygments_lexer": "ipython3",
   "version": "3.6.1"
  }
 },
 "nbformat": 4,
 "nbformat_minor": 2
}
